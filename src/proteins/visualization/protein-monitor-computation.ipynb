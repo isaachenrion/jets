{
 "cells": [
  {
   "cell_type": "code",
   "execution_count": 1,
   "metadata": {},
   "outputs": [],
   "source": [
    "%matplotlib ipympl\n",
    "import matplotlib\n",
    "import numpy as np\n",
    "import matplotlib.pyplot as plt\n",
    "\n",
    "import sys\n",
    "sys.path.append('../../..')\n",
    "import os \n",
    "import pickle\n",
    "\n",
    "import torch "
   ]
  },
  {
   "cell_type": "code",
   "execution_count": 2,
   "metadata": {},
   "outputs": [],
   "source": [
    "from src.proteins.data_ops import get_train_data_loader\n",
    "from src.data_ops.wrapping import unwrap\n",
    "from src.proteins.models import MODEL_DICT\n",
    "from src.utils import load_model\n",
    "from src.proteins.protein_metrics import ProteinMetricCollection"
   ]
  },
  {
   "cell_type": "markdown",
   "metadata": {},
   "source": [
    "Build the model from a given filename"
   ]
  },
  {
   "cell_type": "code",
   "execution_count": 12,
   "metadata": {},
   "outputs": [],
   "source": [
    "HOME = '/Users/isaachenrion/x/research/'\n",
    "filename = os.path.join(HOME, 'model_store', '3')\n",
    "model, _ = load_model(MODEL_DICT, filename)"
   ]
  },
  {
   "cell_type": "markdown",
   "metadata": {},
   "source": [
    "Load the data"
   ]
  },
  {
   "cell_type": "code",
   "execution_count": null,
   "metadata": {},
   "outputs": [],
   "source": [
    "data_dir = os.path.join(HOME, 'graphs', 'data', 'proteins/pdb25')\n",
    "n_train = 1000\n",
    "n_valid = 100\n",
    "batch_size = 1\n",
    "train_data_loader, valid_data_loader, _ = get_train_data_loader(data_dir, n_train, n_valid, batch_size)"
   ]
  },
  {
   "cell_type": "markdown",
   "metadata": {},
   "source": [
    "Protein metric collection"
   ]
  },
  {
   "cell_type": "code",
   "execution_count": 9,
   "metadata": {},
   "outputs": [],
   "source": [
    "k_values = (1,2,5,10)\n",
    "pmc = ProteinMetricCollection('targets', 'predictions', 'masks', *k_values)"
   ]
  },
  {
   "cell_type": "markdown",
   "metadata": {},
   "source": [
    "Evaluate the model"
   ]
  },
  {
   "cell_type": "code",
   "execution_count": 13,
   "metadata": {},
   "outputs": [
    {
     "name": "stdout",
     "output_type": "stream",
     "text": [
      "\n",
      "L/1\t\tlong = 5.3%\tmed = 7.9%\tshort = 10.0%\n",
      "L/2\t\tlong = 5.2%\tmed = 8.6%\tshort = 10.5%\n",
      "L/5\t\tlong = 4.7%\tmed = 9.8%\tshort = 10.7%\n",
      "L/10\t\tlong = 4.9%\tmed = 9.2%\tshort = 11.0%\n",
      "\n"
     ]
    }
   ],
   "source": [
    "targets, predictions, masks = [], [], []\n",
    "for i, batch in enumerate(valid_data_loader):\n",
    "    (x, y, y_mask, batch_mask) = batch\n",
    "    prediction, _ = model(x, batch_mask, y, y_mask)\n",
    "    target = y \n",
    "    targets.append(unwrap(target))\n",
    "    predictions.append(unwrap(prediction))\n",
    "    masks.append(unwrap(batch_mask))\n",
    "\n",
    "logdict = dict(\n",
    "    masks=masks,\n",
    "    targets=targets,\n",
    "    predictions=predictions\n",
    "    )\n",
    "\n",
    "\n",
    "pmc(**logdict)\n",
    "print(pmc.string)\n",
    "        "
   ]
  },
  {
   "cell_type": "code",
   "execution_count": 11,
   "metadata": {},
   "outputs": [
    {
     "name": "stdout",
     "output_type": "stream",
     "text": [
      "\n",
      "L/1\t\tlong = 5.3%\tmed = 7.9%\tshort = 10.0%\n",
      "L/2\t\tlong = 5.2%\tmed = 8.6%\tshort = 10.5%\n",
      "L/5\t\tlong = 4.7%\tmed = 9.8%\tshort = 10.7%\n",
      "L/10\t\tlong = 4.9%\tmed = 9.2%\tshort = 11.0%\n",
      "\n"
     ]
    }
   ],
   "source": []
  },
  {
   "cell_type": "code",
   "execution_count": null,
   "metadata": {},
   "outputs": [],
   "source": []
  }
 ],
 "metadata": {
  "kernelspec": {
   "display_name": "Python 3",
   "language": "python",
   "name": "python3"
  },
  "language_info": {
   "codemirror_mode": {
    "name": "ipython",
    "version": 3
   },
   "file_extension": ".py",
   "mimetype": "text/x-python",
   "name": "python",
   "nbconvert_exporter": "python",
   "pygments_lexer": "ipython3",
   "version": "3.6.0"
  }
 },
 "nbformat": 4,
 "nbformat_minor": 2
}
