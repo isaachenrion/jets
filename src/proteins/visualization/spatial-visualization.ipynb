{
 "cells": [
  {
   "cell_type": "code",
   "execution_count": 10,
   "metadata": {},
   "outputs": [],
   "source": [
    "%matplotlib ipympl\n",
    "import matplotlib\n",
    "import numpy as np\n",
    "import matplotlib.pyplot as plt\n",
    "\n",
    "from mpl_toolkits import mplot3d\n",
    "from mpl_toolkits.mplot3d.art3d import Line3DCollection\n",
    "import sys\n",
    "sys.path.append('../../..')\n",
    "import os \n",
    "import pickle\n",
    "\n",
    "import torch "
   ]
  },
  {
   "cell_type": "code",
   "execution_count": 11,
   "metadata": {},
   "outputs": [],
   "source": [
    "from src.proteins.data_ops import get_train_data_loader\n",
    "from src.proteins.models import MODEL_DICT\n",
    "from src.proteins.visualization.visualize_spatial import visualize_spatial\n",
    "from src.proteins.visualization.color_dict import COLOR_DICT\n",
    "from src.proteins.visualization.spatial_weights_report import spatial_weights_report\n",
    "from src.utils import load_model"
   ]
  },
  {
   "cell_type": "code",
   "execution_count": 12,
   "metadata": {},
   "outputs": [],
   "source": [
    "HOME = '/Users/isaachenrion/x/research/'"
   ]
  },
  {
   "cell_type": "code",
   "execution_count": 13,
   "metadata": {},
   "outputs": [],
   "source": [
    "filename = os.path.join(HOME, 'model_store', '2')\n",
    "model, _ = load_model(MODEL_DICT, filename)"
   ]
  },
  {
   "cell_type": "code",
   "execution_count": 14,
   "metadata": {},
   "outputs": [],
   "source": [
    "data_dir = os.path.join(HOME, 'graphs', 'data', 'proteins/pdb25/small')\n",
    "n_train = -1 \n",
    "n_valid = 100\n",
    "batch_size = 1\n",
    "_, data_loader = get_train_data_loader(data_dir, n_train, n_valid, batch_size)"
   ]
  },
  {
   "cell_type": "code",
   "execution_count": 15,
   "metadata": {},
   "outputs": [],
   "source": [
    "\n",
    "def visualize_spatials(spatials, string_sequence):\n",
    "    \n",
    "    print('{}'.format(string_sequence))\n",
    "    color_sequence = list(map(lambda x: [y/255.0 for y in COLOR_DICT[x]], string_sequence))\n",
    "    fig = plt.figure(figsize=(14,10))\n",
    "    row = 0\n",
    "    col = 0\n",
    "    for i, spatial in enumerate(spatials):\n",
    "        row += 1\n",
    "        if row == 3:\n",
    "            row = 0\n",
    "            col += 1\n",
    "        ax = fig.add_subplot(2, 3, i+1, projection='3d')\n",
    "            \n",
    "        x = spatial[:,0]\n",
    "        y = spatial[:,1]\n",
    "        z = spatial[:,2]\n",
    "\n",
    "        points = np.array([x, y, z]).T.reshape(-1, 1, 3)\n",
    "        segments = np.concatenate([points[:-1], points[1:]], axis=1)\n",
    "\n",
    "        lc = Line3DCollection(segments, colors=color_sequence)\n",
    "        lc.set_linewidth(3)\n",
    "\n",
    "        ax.set_xlim(min(x), max(x))\n",
    "        ax.set_ylim(min(y), max(y))\n",
    "        ax.set_zlim(min(z), max(z))\n",
    "        ax.add_collection3d(lc, zs=z, zdir='z')"
   ]
  },
  {
   "cell_type": "code",
   "execution_count": 16,
   "metadata": {},
   "outputs": [
    {
     "name": "stdout",
     "output_type": "stream",
     "text": [
      "MQQSLAVKTFEDLFAELGDRARTRPADSTTVAALDGGVHALGKKLLEEAGEVWLAAEHESNDALAEEISQLLYWTQVLMISRGLSLDDVYRKL\n"
     ]
    },
    {
     "data": {
      "application/vnd.jupyter.widget-view+json": {
       "model_id": "b47c58be5ba2489e9698fe1a4ac2ef19",
       "version_major": 2,
       "version_minor": 0
      },
      "text/plain": [
       "FigureCanvasNbAgg()"
      ]
     },
     "metadata": {},
     "output_type": "display_data"
    }
   ],
   "source": [
    "spatials = []\n",
    "for i, batch in enumerate(data_loader):\n",
    "    if i == 0:\n",
    "        string_sequence = data_loader.dataset.proteins[i].string_sequence\n",
    "        spatials = []\n",
    "        (x, y, y_mask, batch_mask) = batch\n",
    "        x = model.initial_embedding(x)\n",
    "        for nmp in model.nmp_blocks:\n",
    "            s = nmp.spatial_embedding(x)\n",
    "            spatials.append(s.data.numpy()[0])\n",
    "            x = nmp(x, batch_mask)\n",
    "\n",
    "        s = model.final_spatial_embedding(x)\n",
    "        spatials.append(s.data.numpy()[0])\n",
    "        visualize_spatials(spatials, string_sequence)\n",
    "\n",
    "        \n",
    "        \n",
    "    "
   ]
  },
  {
   "cell_type": "code",
   "execution_count": 8,
   "metadata": {},
   "outputs": [],
   "source": [
    "from sklearn.decomposition import PCA\n",
    "def weights_pca_report(U_k):\n",
    "    X = U_k.data.numpy()\n",
    "    pca = PCA(n_components=3)\n",
    "    pca.fit(X)\n",
    "    \n",
    "    out_str = ''\n",
    "    for i, (perc, comp) in enumerate(zip(pca.explained_variance_ratio_, pca.components_)):\n",
    "        \n",
    "        comp_string = ', '.join(['{:.1f}'.format(i) for i in comp])\n",
    "        out_str += '\\nComponent [{}] has weight {:.2f}'.format(comp_string, perc)\n",
    "    return out_str"
   ]
  },
  {
   "cell_type": "code",
   "execution_count": 9,
   "metadata": {},
   "outputs": [
    {
     "name": "stdout",
     "output_type": "stream",
     "text": [
      "Layer 0\n",
      "Component [-0.2, -0.5, -0.8] has weight 0.67\n",
      "Component [0.9, 0.2, -0.4] has weight 0.17\n",
      "Component [-0.4, 0.8, -0.5] has weight 0.15\n",
      "Layer 1\n",
      "Component [-0.8, -0.1, -0.6] has weight 0.64\n",
      "Component [-0.6, 0.3, 0.8] has weight 0.32\n",
      "Component [0.1, 1.0, -0.2] has weight 0.04\n",
      "Layer 2\n",
      "Component [0.8, 0.5, 0.2] has weight 0.90\n",
      "Component [-0.6, 0.6, 0.5] has weight 0.06\n",
      "Component [-0.1, 0.5, -0.8] has weight 0.04\n",
      "Layer 3\n",
      "Component [-0.5, -0.6, -0.6] has weight 0.88\n",
      "Component [-0.8, 0.0, 0.6] has weight 0.08\n",
      "Component [-0.4, 0.8, -0.5] has weight 0.03\n",
      "Layer 4\n",
      "Component [-0.2, 0.6, 0.8] has weight 0.35\n",
      "Component [-0.4, 0.7, -0.6] has weight 0.33\n",
      "Component [0.9, 0.4, -0.1] has weight 0.31\n",
      "\n"
     ]
    }
   ],
   "source": [
    "print(spatial_weights_report(model))"
   ]
  },
  {
   "cell_type": "code",
   "execution_count": null,
   "metadata": {},
   "outputs": [],
   "source": []
  },
  {
   "cell_type": "code",
   "execution_count": null,
   "metadata": {},
   "outputs": [],
   "source": []
  },
  {
   "cell_type": "code",
   "execution_count": null,
   "metadata": {},
   "outputs": [],
   "source": []
  },
  {
   "cell_type": "code",
   "execution_count": null,
   "metadata": {},
   "outputs": [],
   "source": []
  },
  {
   "cell_type": "code",
   "execution_count": null,
   "metadata": {},
   "outputs": [],
   "source": []
  }
 ],
 "metadata": {
  "kernelspec": {
   "display_name": "Python 3",
   "language": "python",
   "name": "python3"
  },
  "language_info": {
   "codemirror_mode": {
    "name": "ipython",
    "version": 3
   },
   "file_extension": ".py",
   "mimetype": "text/x-python",
   "name": "python",
   "nbconvert_exporter": "python",
   "pygments_lexer": "ipython3",
   "version": "3.6.0"
  }
 },
 "nbformat": 4,
 "nbformat_minor": 2
}
