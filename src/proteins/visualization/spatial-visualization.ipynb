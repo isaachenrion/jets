{
 "cells": [
  {
   "cell_type": "code",
   "execution_count": 9,
   "metadata": {},
   "outputs": [],
   "source": [
    "%matplotlib ipympl\n",
    "import matplotlib\n",
    "import numpy as np\n",
    "import matplotlib.pyplot as plt\n",
    "import sys\n",
    "sys.path.append('../../..')\n",
    "import os \n",
    "import pickle\n",
    "\n",
    "import torch "
   ]
  },
  {
   "cell_type": "code",
   "execution_count": 14,
   "metadata": {},
   "outputs": [],
   "source": [
    "from src.proteins.data_ops import get_train_data_loader\n",
    "from src.proteins.models import MODEL_DICT\n",
    "from src.proteins.visualization.visualize_spatial import visualize_spatial\n",
    "from src.utils import load_model"
   ]
  },
  {
   "cell_type": "code",
   "execution_count": 15,
   "metadata": {},
   "outputs": [],
   "source": [
    "HOME = '/Users/isaachenrion/x/research/'"
   ]
  },
  {
   "cell_type": "code",
   "execution_count": 16,
   "metadata": {},
   "outputs": [],
   "source": [
    "filename = os.path.join(HOME, 'model_store', 'cnmp')\n",
    "model, _ = load_model(MODEL_DICT, filename)"
   ]
  },
  {
   "cell_type": "code",
   "execution_count": 17,
   "metadata": {},
   "outputs": [],
   "source": [
    "data_dir = os.path.join(HOME, 'graphs', 'data', 'proteins/pdb25/small')\n",
    "n_train = -1 \n",
    "n_valid = 100\n",
    "batch_size = 1\n",
    "_, data_loader = get_train_data_loader(data_dir, n_train, n_valid, batch_size)"
   ]
  },
  {
   "cell_type": "code",
   "execution_count": 18,
   "metadata": {},
   "outputs": [
    {
     "name": "stdout",
     "output_type": "stream",
     "text": [
      "MQQSLAVKTFEDLFAELGDRARTRPADSTTVAALDGGVHALGKKLLEEAGEVWLAAEHESNDALAEEISQLLYWTQVLMISRGLSLDDVYRKL\n"
     ]
    },
    {
     "data": {
      "application/vnd.jupyter.widget-view+json": {
       "model_id": "9e4230eeb1ae43cf9acdcf31ab2374f5",
       "version_major": 2,
       "version_minor": 0
      },
      "text/plain": [
       "FigureCanvasNbAgg()"
      ]
     },
     "metadata": {},
     "output_type": "display_data"
    },
    {
     "name": "stdout",
     "output_type": "stream",
     "text": [
      "MRTYSSLLEEFATELGLEEIETNELGHGAVTIDKIWVVHLAPINEKELVAFMRAGILTGQSQLYDILRKNLFSPLSGVIRCALDKDDHWLLWSQLNINDTSGTQLASVLTSLVDKAVTLSCEPTMKKEEDDHRPSSSHLLV\n"
     ]
    },
    {
     "data": {
      "application/vnd.jupyter.widget-view+json": {
       "model_id": "43fbb54be58c4ce3932454c71be3870f",
       "version_major": 2,
       "version_minor": 0
      },
      "text/plain": [
       "FigureCanvasNbAgg()"
      ]
     },
     "metadata": {},
     "output_type": "display_data"
    },
    {
     "name": "stdout",
     "output_type": "stream",
     "text": [
      "SNAMKDFHFDAISAFENYEIEKMRDGHVVVTTKVVNSSLNYYGNAHGGYLFTLCDQISGLVVISLGLDGVTLQSSINYLKAGKLDDVLTIKGECVHQGRTTCVMDVDITNQEGRNVCKATFTMFVTGQRSEERRVRI\n"
     ]
    },
    {
     "data": {
      "application/vnd.jupyter.widget-view+json": {
       "model_id": "f7ddfbb79a9645dba7e5bc112819296a",
       "version_major": 2,
       "version_minor": 0
      },
      "text/plain": [
       "FigureCanvasNbAgg()"
      ]
     },
     "metadata": {},
     "output_type": "display_data"
    },
    {
     "name": "stdout",
     "output_type": "stream",
     "text": [
      "MSYTKEQLMLAFSYMSYYGITHTGSAKKNAELILKKMKEALKTWKPFQEDDWEVVWGPAVYTMPFTIFNDAMMYVIQKKGAEGEYVIAIRGTNPVSISDWLFNDFMVSAMKKWPYASVEGRILKISESTSYGLKTLQKLKPKSHIPGENKTILQFLNEKIGPEGKAKICVTGHSKGGALSSTLALWLKDIQGVKLSQNIDISTIPFAGPTAGNADFADYFDDCLGDQCTRIANSLDIVPYAWNTNSLKKLKSIYISEQASVKPLLYQRALIRAMIAETKGKKYKQIKAETPPLEGNINPILIEYLVQAAYQHVVGYPELMGMMDDIPLTDIFEDAIAGLLHHHHHH\n"
     ]
    },
    {
     "data": {
      "application/vnd.jupyter.widget-view+json": {
       "model_id": "c7795d89b22b4cf29ebb16d10627c1d1",
       "version_major": 2,
       "version_minor": 0
      },
      "text/plain": [
       "FigureCanvasNbAgg()"
      ]
     },
     "metadata": {},
     "output_type": "display_data"
    },
    {
     "name": "stdout",
     "output_type": "stream",
     "text": [
      "MGKTFPDVPADHWGIDSINYLVEKGAVKGNDKGMFEPGKELTRAEAATMMAQILNLPIDKDAKPSFADSQGQWYTPFIAAVEKAGVIKGTGNGFEPNGKIDRVSMASLLVEAYKLDTKVNGTPATKFKDLETLNWGKEKANILVELGISVGTGDQWEPKKTVTKAEAAQFIAKTDKQFGTELEDPAANKARKEAELAAATAEN\n"
     ]
    },
    {
     "data": {
      "application/vnd.jupyter.widget-view+json": {
       "model_id": "b1b94f78831e4a6db6f653ec9734de2b",
       "version_major": 2,
       "version_minor": 0
      },
      "text/plain": [
       "FigureCanvasNbAgg()"
      ]
     },
     "metadata": {},
     "output_type": "display_data"
    },
    {
     "name": "stdout",
     "output_type": "stream",
     "text": [
      "SRVGKKPIEIPAGVTVTVNGNTVTVKGPKGELTRTFHPDMTITVEGNVITVTRPSDEKHHRALHGTTRSLLANMVEGVSKGYEKALELVGVGYRASKQGKKLVLSVGYSHPVEIEPEEGLEIEVPSQTKIIVKGADKQRVGELAANIRAVRPPEPYKGKGIRYEGELVRLKEGKTGK\n"
     ]
    },
    {
     "data": {
      "application/vnd.jupyter.widget-view+json": {
       "model_id": "131917cb87ef46378591a8ecda1c0668",
       "version_major": 2,
       "version_minor": 0
      },
      "text/plain": [
       "FigureCanvasNbAgg()"
      ]
     },
     "metadata": {},
     "output_type": "display_data"
    },
    {
     "name": "stdout",
     "output_type": "stream",
     "text": [
      "ELIRVAILWHEMWHEGLEEASRLYFGERNVKGMFEVLEPLHAMMERGPQTLKETSFNQAYGRDLMEAQEWCRKYMKSGNVKDLTQAWDLYYHVFRRISKQ\n"
     ]
    },
    {
     "data": {
      "application/vnd.jupyter.widget-view+json": {
       "model_id": "2be196476e384cdb92125545b3b05d6f",
       "version_major": 2,
       "version_minor": 0
      },
      "text/plain": [
       "FigureCanvasNbAgg()"
      ]
     },
     "metadata": {},
     "output_type": "display_data"
    },
    {
     "name": "stdout",
     "output_type": "stream",
     "text": [
      "MTMPLRGLGPPDDTGVREVSTGDDHHYAMWDAAYVLGALSAADRREFEAHLAGCPECRGAVTELCGVPALLSQLDRDEVAAISESAPTVVASGLSPELLPSLLAAVHR\n"
     ]
    },
    {
     "data": {
      "application/vnd.jupyter.widget-view+json": {
       "model_id": "1e1a20ae559549deabd6bf7f6891254b",
       "version_major": 2,
       "version_minor": 0
      },
      "text/plain": [
       "FigureCanvasNbAgg()"
      ]
     },
     "metadata": {},
     "output_type": "display_data"
    },
    {
     "name": "stdout",
     "output_type": "stream",
     "text": [
      "MPASQIKSAVTSPLLPQSPSLFEKYPRPHKKLKQLHWEKLDCTDNSIWGTGKAEKFADDLYEKGVLADLEKAFAAREIKSLASKRKEDLQKITFLSRDISQQFGINLHMYSSLSVADLVKKILNCDRDFLQTPSVVEFLSKSEIIEVSVNLARNYAPYSTDWEGVRNLEDAKPPEKDPNDLQRADQIYLQLMVNLESYWGSRMRALTVVTSYEREYNELLAKLRKVDKAVSALQESDNLRNVFNVILAVGNFMNDTSKQAQGFKLSTLQRLTFIKDTTNSMTFLNYVEKIVRLNYPSFNDFLSELEPVLDVVKVSIEQLVNDCKDFSQSIVNVERSVEIGNLSDSSKFHPLDKVLIKTLPVLPEARKKGDLLEDEVKLTIMEFESLMHTYGEDSGDKFAKISFFKKFADFINEYKKAQAQNLAAEEEERLYIKHKKIVEEQQK\n"
     ]
    },
    {
     "data": {
      "application/vnd.jupyter.widget-view+json": {
       "model_id": "afb0edf608514db98f128d6ac51c8fdd",
       "version_major": 2,
       "version_minor": 0
      },
      "text/plain": [
       "FigureCanvasNbAgg()"
      ]
     },
     "metadata": {},
     "output_type": "display_data"
    },
    {
     "name": "stdout",
     "output_type": "stream",
     "text": [
      "HRMSPFPLTSMDKAFITVLEMTPVLGTEIINYRDGMGRVLAQDVYAKDNLPPFPASVKDGYAVRAADGPGDRFIIGESQAGEQPTQTVMPGQVMRVTTGAPIPCGADAVVQVEDTELIRESDDGTEELEVRILVQARPGQDIRPIGHDIKRGECVLAKGTHMGPSEIGLLATVGVTEVEVNKFPVVAVMSTGNELLNPEDDLLPGKIRDSNRSTLLATIQEHGYPTINLGIVGDNPDDLLNALNEGISRADVIITSGGVSMGEKDYLKQVLDIDLHAQIHFGRVFMKPGLPTTFATLDIDGVRKIIFALPGNPVSAVVTCNLFVVPALRKMQGILDPRPTIIKARLSCDVKLDPRPEYHRCILTWHHQEPLPWAQSTGNQMSSRLMSMRSANGLLMLPPKTEQYVELHKGEVVDVMVIGRL\n"
     ]
    },
    {
     "data": {
      "application/vnd.jupyter.widget-view+json": {
       "model_id": "9f5abebdd0b44e4284cc45549cbf632f",
       "version_major": 2,
       "version_minor": 0
      },
      "text/plain": [
       "FigureCanvasNbAgg()"
      ]
     },
     "metadata": {},
     "output_type": "display_data"
    }
   ],
   "source": [
    "spatials = []\n",
    "for i, batch in enumerate(data_loader):\n",
    "    (x, y, y_mask, batch_mask) = batch\n",
    "    spatial = model.get_final_spatial_embedding_with_grad(x, batch_mask)\n",
    "    string_sequence = data_loader.dataset.proteins[i].string_sequence\n",
    "    spatial = spatial.data.numpy()[0]\n",
    "    visualize_spatial(spatial, string_sequence)\n",
    "\n",
    "    "
   ]
  },
  {
   "cell_type": "code",
   "execution_count": null,
   "metadata": {},
   "outputs": [],
   "source": []
  },
  {
   "cell_type": "code",
   "execution_count": null,
   "metadata": {},
   "outputs": [],
   "source": []
  },
  {
   "cell_type": "code",
   "execution_count": null,
   "metadata": {},
   "outputs": [],
   "source": []
  },
  {
   "cell_type": "code",
   "execution_count": null,
   "metadata": {},
   "outputs": [],
   "source": []
  },
  {
   "cell_type": "code",
   "execution_count": null,
   "metadata": {},
   "outputs": [],
   "source": []
  }
 ],
 "metadata": {
  "kernelspec": {
   "display_name": "Python 3",
   "language": "python",
   "name": "python3"
  },
  "language_info": {
   "codemirror_mode": {
    "name": "ipython",
    "version": 3
   },
   "file_extension": ".py",
   "mimetype": "text/x-python",
   "name": "python",
   "nbconvert_exporter": "python",
   "pygments_lexer": "ipython3",
   "version": "3.6.0"
  }
 },
 "nbformat": 4,
 "nbformat_minor": 2
}
