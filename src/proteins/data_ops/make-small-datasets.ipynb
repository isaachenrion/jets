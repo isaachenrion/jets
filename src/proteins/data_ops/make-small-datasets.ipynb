{
 "cells": [
  {
   "cell_type": "code",
   "execution_count": 11,
   "metadata": {},
   "outputs": [],
   "source": [
    "%matplotlib inline\n",
    "\n",
    "import matplotlib\n",
    "import numpy as np\n",
    "import matplotlib.pyplot as plt\n",
    "\n",
    "import sys\n",
    "sys.path.append('../../../..')\n",
    "import os \n",
    "import pickle"
   ]
  },
  {
   "cell_type": "code",
   "execution_count": 12,
   "metadata": {},
   "outputs": [],
   "source": [
    "SRCDIR = '/Users/isaachenrion/x/research/graphs'\n",
    "DATADIR = os.path.join(SRCDIR, 'data')\n",
    "DATADIR = os.path.join(DATADIR, 'proteins', 'pdb25')"
   ]
  },
  {
   "cell_type": "code",
   "execution_count": 26,
   "metadata": {},
   "outputs": [],
   "source": [
    "def save_subset(filename, n, name):\n",
    "    with open(os.path.join(DATADIR,filename), 'rb') as f:\n",
    "        data = pickle.load(f, encoding='latin-1')\n",
    "    data = data[:n]\n",
    "    target_dir = os.path.join(DATADIR, name)\n",
    "    save_filename = os.path.join(target_dir, filename)\n",
    "    print(\"Saved {} examples to {}\".format(len(data),save_filename))\n",
    "    if not os.path.exists(target_dir):\n",
    "        os.makedirs(target_dir)\n",
    "    with open(save_filename, 'wb') as f:\n",
    "        pickle.dump(data, f)"
   ]
  },
  {
   "cell_type": "code",
   "execution_count": 37,
   "metadata": {},
   "outputs": [],
   "source": [
    "def test_load_subset(filename, n):\n",
    "    filename = os.path.join(DATADIR,filename)\n",
    "    with open(filename, 'rb') as f:\n",
    "        data = pickle.load(f, encoding='latin-1')\n",
    "    assert len(data) == n\n",
    "    print(\"Loaded {} examples from {}\".format(n, filename))\n"
   ]
  },
  {
   "cell_type": "code",
   "execution_count": 34,
   "metadata": {},
   "outputs": [],
   "source": [
    "n = 10"
   ]
  },
  {
   "cell_type": "code",
   "execution_count": 35,
   "metadata": {},
   "outputs": [
    {
     "name": "stdout",
     "output_type": "stream",
     "text": [
      "Saved 10 examples to /Users/isaachenrion/x/research/graphs/data/proteins/pdb25/small/train.pkl\n",
      "Loaded 10 examples as required\n"
     ]
    }
   ],
   "source": [
    "save_subset('train.pkl', n, 'small')\n",
    "test_load_subset('small/train.pkl', n)"
   ]
  },
  {
   "cell_type": "code",
   "execution_count": 38,
   "metadata": {},
   "outputs": [
    {
     "name": "stdout",
     "output_type": "stream",
     "text": [
      "Saved 10 examples to /Users/isaachenrion/x/research/graphs/data/proteins/pdb25/small/valid.pkl\n",
      "Loaded 10 examples from /Users/isaachenrion/x/research/graphs/data/proteins/pdb25/small/valid.pkl\n"
     ]
    }
   ],
   "source": [
    "save_subset('valid.pkl', n, 'small')\n",
    "test_load_subset('small/valid.pkl', n)"
   ]
  },
  {
   "cell_type": "code",
   "execution_count": 32,
   "metadata": {},
   "outputs": [],
   "source": []
  },
  {
   "cell_type": "code",
   "execution_count": null,
   "metadata": {},
   "outputs": [],
   "source": []
  }
 ],
 "metadata": {
  "kernelspec": {
   "display_name": "Python [conda env:torch]",
   "language": "python",
   "name": "conda-env-torch-py"
  },
  "language_info": {
   "codemirror_mode": {
    "name": "ipython",
    "version": 3
   },
   "file_extension": ".py",
   "mimetype": "text/x-python",
   "name": "python",
   "nbconvert_exporter": "python",
   "pygments_lexer": "ipython3",
   "version": "3.6.0"
  }
 },
 "nbformat": 4,
 "nbformat_minor": 2
}
