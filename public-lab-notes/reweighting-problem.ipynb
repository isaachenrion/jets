{
 "cells": [
  {
   "cell_type": "markdown",
   "metadata": {},
   "source": [
    "# The problem \n",
    "We have been reweighting the samples so that they are approximately flat with respect to pt. We do this by plotting the histogram of pt, and then scaling each sample by the inverse of its density in the histogram. Note that we carry out this procedure separately for the signal and background. First, let's see what the pt values look like for the signal and background distributions."
   ]
  },
  {
   "cell_type": "code",
   "execution_count": 47,
   "metadata": {},
   "outputs": [],
   "source": [
    "%matplotlib ipympl\n",
    "import matplotlib\n",
    "import numpy as np\n",
    "import matplotlib.pyplot as plt\n",
    "\n",
    "array_dict = np.load('pts.npz')\n",
    "pts_0 = array_dict['pts_0']\n",
    "pts_1 = array_dict['pts_1']\n",
    "pt_min, pt_max = 250, 300\n",
    "bins = 50"
   ]
  },
  {
   "cell_type": "code",
   "execution_count": 48,
   "metadata": {},
   "outputs": [
    {
     "data": {
      "application/vnd.jupyter.widget-view+json": {
       "model_id": "c0432fdaa8ba4958a99c9f2200486d2d",
       "version_major": 2,
       "version_minor": 0
      },
      "text/plain": [
       "FigureCanvasNbAgg()"
      ]
     },
     "metadata": {},
     "output_type": "display_data"
    }
   ],
   "source": [
    "def histplot(x, ax, title, x_min, x_max, bins, weights=None):\n",
    "    pdf, edges = np.histogram(x, density=False, range=[x_min, x_max], bins=bins, weights=weights)\n",
    "    ax.bar(edges[:-1], pdf, width=np.diff(edges), ec=\"k\", align=\"edge\")\n",
    "    ax.set_title(title)\n",
    "\n",
    "fig, axs = plt.subplots(1,2)\n",
    "\n",
    "histplot(pts_0, axs[0], 'Background', pt_min, pt_max, bins)\n",
    "histplot(pts_1, axs[1], 'Signal', pt_min, pt_max, bins)"
   ]
  },
  {
   "cell_type": "markdown",
   "metadata": {},
   "source": [
    "Now we will compute the weights and demonstrate that they do indeed normalize the distribution of pt."
   ]
  },
  {
   "cell_type": "code",
   "execution_count": 49,
   "metadata": {},
   "outputs": [],
   "source": [
    "def get_weights_for_flatness_in_pt(pts, pt_min, pt_max, bins):\n",
    "    pdf, edges = np.histogram(pts, density=True, range=[pt_min, pt_max], bins=bins)\n",
    "    indices = np.searchsorted(edges, pts) - 1\n",
    "    inv_w = 1. / pdf[indices]\n",
    "    inv_w /= inv_w.sum()\n",
    "    return inv_w"
   ]
  },
  {
   "cell_type": "code",
   "execution_count": 50,
   "metadata": {},
   "outputs": [
    {
     "data": {
      "application/vnd.jupyter.widget-view+json": {
       "model_id": "40fbfb40014f415cbffc091e41dedad3",
       "version_major": 2,
       "version_minor": 0
      },
      "text/plain": [
       "FigureCanvasNbAgg()"
      ]
     },
     "metadata": {},
     "output_type": "display_data"
    }
   ],
   "source": [
    "w_0 = get_weights_for_flatness_in_pt(pts_0,pt_min,pt_max,bins)\n",
    "w_1 = get_weights_for_flatness_in_pt(pts_1,pt_min,pt_max,bins)\n",
    "fig, axs = plt.subplots(1,2)\n",
    "histplot(pts_0, axs[0], \"Background\", pt_min, pt_max, bins, weights=w_0)\n",
    "histplot(pts_1, axs[1], \"Signal\", pt_min, pt_max, bins, weights=w_1)\n",
    "plt.show()"
   ]
  },
  {
   "cell_type": "markdown",
   "metadata": {},
   "source": [
    "Our overall function for getting the normalization weights should thus be: \n",
    "\n",
    "First, compute the weights with respect to the signal and background distributions.\n",
    "~~~~\n",
    "y = np.array([jet.y for jet in jets]) # this is the signal/background indicator\n",
    "\n",
    "pts_0 = [jet.pt for jet in jets if jet.y == 0]\n",
    "pts_1 = [jet.pt for jet in jets if jet.y == 1]\n",
    "\n",
    "w_0 = get_weights_for_flatness_in_pt(pts_0, pt_min, pt_max, bins)\n",
    "w_1 = get_weights_for_flatness_in_pt(pts_1, pt_min, pt_max, bins)\n",
    "~~~~"
   ]
  },
  {
   "cell_type": "markdown",
   "metadata": {},
   "source": [
    "Second, store all of these in a single array of the same shape as the jet indicator array.\n",
    "~~~~\n",
    "w = np.zeros(len(jets))\n",
    "\n",
    "w[y==0] = w_0\n",
    "\n",
    "w[y==1] = w_1\n",
    "~~~~"
   ]
  },
  {
   "cell_type": "markdown",
   "metadata": {},
   "source": [
    "**However**, we were not doing this. Rather, I had two loops over the jets as follows:\n",
    "~~~~\n",
    "w = np.zeros(len(jets))\n",
    "\n",
    "for i, (iw, jet) in enumerate(zip(w_0, jets)):\n",
    "    if jet.y == 0:\n",
    "        w[i] = iw\n",
    "        \n",
    "for i, (iw, jet) in enumerate(zip(w_1, jets)):\n",
    "    if jet.y == 1:\n",
    "        w[i] = iw\n",
    "\n",
    "~~~~"
   ]
  },
  {
   "cell_type": "markdown",
   "metadata": {},
   "source": [
    "As you can see, this is **not** right. \n",
    "\n",
    "1) It writes the background jet weights into the first len(w_0) entries of w, provided that the corresponding jet is background.\n",
    "\n",
    "2) Then it writes the signal jet weights into the first len(w_1) entries of w, provided that the corresponding jet is signal.\n",
    "\n",
    "3) It never writes any weights to the array after place max(len(w_0), len(w_1)). These remain zero."
   ]
  },
  {
   "cell_type": "markdown",
   "metadata": {},
   "source": [
    "## Consequences\n",
    "All of the results I achieved before hand were with the **incorrect** weighting. With this I got to 1/FPR = 150 at times.\n",
    "Now that I have taken out the weighting, it is down to the 70s. So the question is - why does it have this positive effect on the metric? All it does is zero out about half the samples, which should just mean higher variance."
   ]
  },
  {
   "cell_type": "code",
   "execution_count": null,
   "metadata": {},
   "outputs": [],
   "source": []
  }
 ],
 "metadata": {
  "kernelspec": {
   "display_name": "Python 3",
   "language": "python",
   "name": "python3"
  },
  "language_info": {
   "codemirror_mode": {
    "name": "ipython",
    "version": 3
   },
   "file_extension": ".py",
   "mimetype": "text/x-python",
   "name": "python",
   "nbconvert_exporter": "python",
   "pygments_lexer": "ipython3",
   "version": "3.6.0"
  }
 },
 "nbformat": 4,
 "nbformat_minor": 2
}
