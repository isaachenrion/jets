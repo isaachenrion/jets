{
 "cells": [
  {
   "cell_type": "code",
   "execution_count": 13,
   "metadata": {},
   "outputs": [],
   "source": [
    "def today():\n",
    "    import datetime\n",
    "    today = datetime.datetime.today()\n",
    "    return today.strftime('**%d %b %Y**')"
   ]
  },
  {
   "cell_type": "markdown",
   "metadata": {},
   "source": [
    "**25 Apr 2018**"
   ]
  },
  {
   "cell_type": "markdown",
   "metadata": {},
   "source": [
    "To do today\n",
    "- Fix the protein metric. Decide between precision and recall\n",
    "- Log protein metrics on the training set\n",
    "- Achieve the baseline with the Wang ResNet\n",
    "- Automatic visualization of a few spatial embeddings during training"
   ]
  },
  {
   "cell_type": "markdown",
   "metadata": {},
   "source": [
    "To do this week\n",
    "- Run pileup experiments\n",
    "- Run all combinations of jets experiments on the original data\n",
    "- Export the model files to a safe place\n",
    "- Record the results"
   ]
  },
  {
   "cell_type": "markdown",
   "metadata": {},
   "source": [
    "To do this month\n",
    "- Get GNN on par with baseline\n",
    "- Move protein code to proteins folder, jets code to jets folder. So main codebase is problem-agnostic"
   ]
  },
  {
   "cell_type": "code",
   "execution_count": null,
   "metadata": {},
   "outputs": [],
   "source": []
  }
 ],
 "metadata": {
  "kernelspec": {
   "display_name": "Python 3",
   "language": "python",
   "name": "python3"
  },
  "language_info": {
   "codemirror_mode": {
    "name": "ipython",
    "version": 3
   },
   "file_extension": ".py",
   "mimetype": "text/x-python",
   "name": "python",
   "nbconvert_exporter": "python",
   "pygments_lexer": "ipython3",
   "version": "3.6.0"
  }
 },
 "nbformat": 4,
 "nbformat_minor": 2
}
