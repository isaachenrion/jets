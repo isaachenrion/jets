{
 "cells": [
  {
   "cell_type": "code",
   "execution_count": 21,
   "metadata": {},
   "outputs": [],
   "source": [
    "def today():\n",
    "    import datetime\n",
    "    today = datetime.datetime.today()\n",
    "    return today.strftime('## %a %d %b %Y')"
   ]
  },
  {
   "cell_type": "markdown",
   "metadata": {},
   "source": [
    "### To do this month\n",
    "- Get GNN on par with baseline\n",
    "- Move protein code to proteins folder, jets code to jets folder. So main codebase is problem-agnostic\n",
    "- make sure the argparse defaults for jets and proteins are sensible\n",
    "- write code to automatically create problem directories with empty python files\n",
    "\n",
    "### To do this week\n",
    "- Run pileup experiments\n",
    "- Run all combinations of jets experiments on the original data\n",
    "- Export the model files to a safe place\n",
    "- Record the results\n",
    "- ~~Switch to pytorch 0.4~~"
   ]
  },
  {
   "cell_type": "markdown",
   "metadata": {},
   "source": [
    "## Wed 25 Apr 2018"
   ]
  },
  {
   "cell_type": "markdown",
   "metadata": {},
   "source": [
    "### To do today\n",
    "- Fix the protein metric. Decide between precision and recall\n",
    "- ~~Log protein metrics on the training set~~\n",
    "- Achieve the baseline with the Wang ResNet\n",
    "- Automatic visualization of a few spatial embeddings during training\n",
    "- ~~reweight jets samples for flatness in pt~~\n",
    "- ~~randomize validation set in jets to confirm consistency~~"
   ]
  },
  {
   "cell_type": "markdown",
   "metadata": {},
   "source": [
    "### Issues \n",
    "- ~~I cannot overfit a small training set and achieve perfect accuracy with respect to the protein metrics~~"
   ]
  },
  {
   "cell_type": "markdown",
   "metadata": {},
   "source": [
    "## Thu 26 Apr 2018"
   ]
  },
  {
   "cell_type": "markdown",
   "metadata": {},
   "source": [
    "### To do today\n",
    "- Fix the protein metric. Decide between precision and recall\n",
    "- Achieve the baseline with the Wang ResNet\n",
    "- Automatic visualization of a few spatial embeddings during training\n",
    "- Physics models seem to be underperforming with the new weighting. Investigate"
   ]
  },
  {
   "cell_type": "markdown",
   "metadata": {},
   "source": [
    "## Fri 27 Apr 2018\n",
    "### To do today\n",
    "- Fix the protein metric. Decide between precision and recall\n",
    "- Achieve the baseline with the Wang ResNet\n",
    "- Automatic visualization of a few spatial embeddings during training\n",
    "- Physics models seem to be underperforming with the new weighting. Investigate\n",
    "- ~~Not running on GPU. Fix~~\n",
    "- Slurm memory overflow\n",
    "### Notes\n",
    "- Problem linking CUDA-9.1 with pytorch. Used CUDA-9.0 instead.\n",
    "### Meeting with Joan \n",
    "- Let's try predicting the polar coordinates of the proteins with respect to each other (joint angles).\n",
    "- This naturally induces a rotational invariance.\n",
    "- Low dimensional representation of a protein in terms of joint lengths and angles (N x 3).\n",
    "- Use this to compute Cartesian representation, e.g. anchoring amino acid 1 at (0,0,0) and amino acid 2 at (0,0,1).\n",
    "- Email the RaptorX authors about baseline memory issue.\n"
   ]
  },
  {
   "cell_type": "markdown",
   "metadata": {},
   "source": [
    "## Sat 28 Apr 2018\n",
    "### To do today\n",
    "- ~~Fix the protein metric. Decide between precision and recall~~\n",
    "- Achieve the baseline with the Wang ResNet\n",
    "- Automatic visualization of a few spatial embeddings during training\n",
    "- Physics models seem to be underperforming with the new weighting. Investigate\n",
    "- ~~Not running on GPU. Fix~~\n",
    "- Slurm memory overflow\n",
    "- ~~Joint angles to Cartesian coords~~"
   ]
  },
  {
   "cell_type": "markdown",
   "metadata": {},
   "source": [
    "## Mon 30 Apr 2018\n",
    "### To do today\n",
    "- Achieve the baseline with the Wang ResNet\n",
    "- ~~Automatic visualization of a few spatial embeddings during training~~\n",
    "- Physics models seem to be underperforming with the new weighting. Investigate\n",
    "- Slurm memory overflow"
   ]
  },
  {
   "cell_type": "code",
   "execution_count": null,
   "metadata": {},
   "outputs": [],
   "source": []
  }
 ],
 "metadata": {
  "kernelspec": {
   "display_name": "Python 3",
   "language": "python",
   "name": "python3"
  },
  "language_info": {
   "codemirror_mode": {
    "name": "ipython",
    "version": 3
   },
   "file_extension": ".py",
   "mimetype": "text/x-python",
   "name": "python",
   "nbconvert_exporter": "python",
   "pygments_lexer": "ipython3",
   "version": "3.6.0"
  }
 },
 "nbformat": 4,
 "nbformat_minor": 2
}
